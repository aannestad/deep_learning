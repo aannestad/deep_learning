{
 "cells": [
  {
   "cell_type": "code",
   "execution_count": 1,
   "metadata": {},
   "outputs": [],
   "source": [
    "import torch\n",
    "import torchvision\n",
    "from torch.utils.data import Dataset, DataLoader\n",
    "import numpy as np\n",
    "import math"
   ]
  },
  {
   "cell_type": "markdown",
   "metadata": {},
   "source": [
    "## Thanks: python-engineer"
   ]
  },
  {
   "cell_type": "markdown",
   "metadata": {},
   "source": [
    "Refresh definitions:\n",
    "\n",
    "epoch = A forward and backward pass over all examples\n",
    "\n",
    "batch_size = num. examples in ONE forward and backward pass\n",
    "\n",
    "interations = number of passes (where each pass process one batch)\n",
    "\n",
    "100 examples, batch_size = 20, 100/20 = 5 iterations for 1 epoch"
   ]
  },
  {
   "cell_type": "code",
   "execution_count": 20,
   "metadata": {},
   "outputs": [],
   "source": [
    "\n",
    "class MyDataSet(Dataset):\n",
    "    def __init__(self):\n",
    "        # Loading the raw data\n",
    "        data = np.loadtxt('./data/wine.csv',delimiter=\",\",dtype=np.float32,skiprows=1)\n",
    "        self.x = torch.from_numpy(data[:,1:]) # features from second column\n",
    "        self.y = torch.from_numpy(data[:,[0]])  # labels in first column (n_samples,1)\n",
    "        self.n_samples = data.shape[0] # length of numpy array\n",
    "\n",
    "    def __getitem__(self, index):\n",
    "        # Support for indexing: dataset[0]\n",
    "        return self.x[index], self.y[index] # return tuple \n",
    "\n",
    "    def __len__(self):\n",
    "        # Support for len(dataset)\n",
    "        return self.n_samples"
   ]
  },
  {
   "cell_type": "code",
   "execution_count": 23,
   "metadata": {},
   "outputs": [
    {
     "name": "stdout",
     "output_type": "stream",
     "text": [
      "(tensor([1.4230e+01, 1.7100e+00, 2.4300e+00, 1.5600e+01, 1.2700e+02, 2.8000e+00,\n",
      "        3.0600e+00, 2.8000e-01, 2.2900e+00, 5.6400e+00, 1.0400e+00, 3.9200e+00,\n",
      "        1.0650e+03]), tensor([1.]))\n"
     ]
    }
   ],
   "source": [
    "# Instantiate and inspect\n",
    "\n",
    "dataset = MyDataSet()\n",
    "\n",
    "# Have a look at the first example\n",
    "\n",
    "first_example = dataset[0]\n",
    "features, labels = first_example\n",
    "print(first_example)"
   ]
  },
  {
   "cell_type": "code",
   "execution_count": 29,
   "metadata": {},
   "outputs": [
    {
     "name": "stdout",
     "output_type": "stream",
     "text": [
      "tensor([[1.2960e+01, 3.4500e+00, 2.3500e+00, 1.8500e+01, 1.0600e+02, 1.3900e+00,\n",
      "         7.0000e-01, 4.0000e-01, 9.4000e-01, 5.2800e+00, 6.8000e-01, 1.7500e+00,\n",
      "         6.7500e+02],\n",
      "        [1.2450e+01, 3.0300e+00, 2.6400e+00, 2.7000e+01, 9.7000e+01, 1.9000e+00,\n",
      "         5.8000e-01, 6.3000e-01, 1.1400e+00, 7.5000e+00, 6.7000e-01, 1.7300e+00,\n",
      "         8.8000e+02],\n",
      "        [1.3520e+01, 3.1700e+00, 2.7200e+00, 2.3500e+01, 9.7000e+01, 1.5500e+00,\n",
      "         5.2000e-01, 5.0000e-01, 5.5000e-01, 4.3500e+00, 8.9000e-01, 2.0600e+00,\n",
      "         5.2000e+02],\n",
      "        [1.2080e+01, 1.8300e+00, 2.3200e+00, 1.8500e+01, 8.1000e+01, 1.6000e+00,\n",
      "         1.5000e+00, 5.2000e-01, 1.6400e+00, 2.4000e+00, 1.0800e+00, 2.2700e+00,\n",
      "         4.8000e+02],\n",
      "        [1.2370e+01, 1.1300e+00, 2.1600e+00, 1.9000e+01, 8.7000e+01, 3.5000e+00,\n",
      "         3.1000e+00, 1.9000e-01, 1.8700e+00, 4.4500e+00, 1.2200e+00, 2.8700e+00,\n",
      "         4.2000e+02]]) tensor([[3.],\n",
      "        [3.],\n",
      "        [3.],\n",
      "        [2.],\n",
      "        [2.]])\n"
     ]
    }
   ],
   "source": [
    "# Now process our dataset using pytorch Dataloader\n",
    "\n",
    "dataloader = DataLoader(dataset=dataset, batch_size=5, shuffle=True) # num_workers=4)\n",
    "\n",
    "# Inspect a batch using Dataloader\n",
    "\n",
    "dataiter = iter(dataloader)\n",
    "data = dataiter.next()\n",
    "features, labels = data\n",
    "print(features, labels) # print the first batch (of 5 examples)"
   ]
  },
  {
   "cell_type": "code",
   "execution_count": 40,
   "metadata": {},
   "outputs": [
    {
     "name": "stdout",
     "output_type": "stream",
     "text": [
      "Epoch 1 | Step: 5/36 | Examples: torch.Size([5, 13]) \n",
      "Epoch 1 | Step: 10/36 | Examples: torch.Size([5, 13]) \n",
      "Epoch 1 | Step: 15/36 | Examples: torch.Size([5, 13]) \n",
      "Epoch 1 | Step: 20/36 | Examples: torch.Size([5, 13]) \n",
      "Epoch 1 | Step: 25/36 | Examples: torch.Size([5, 13]) \n",
      "Epoch 1 | Step: 30/36 | Examples: torch.Size([5, 13]) \n",
      "Epoch 1 | Step: 35/36 | Examples: torch.Size([5, 13]) \n",
      "Epoch 2 | Step: 5/36 | Examples: torch.Size([5, 13]) \n",
      "Epoch 2 | Step: 10/36 | Examples: torch.Size([5, 13]) \n",
      "Epoch 2 | Step: 15/36 | Examples: torch.Size([5, 13]) \n",
      "Epoch 2 | Step: 20/36 | Examples: torch.Size([5, 13]) \n",
      "Epoch 2 | Step: 25/36 | Examples: torch.Size([5, 13]) \n",
      "Epoch 2 | Step: 30/36 | Examples: torch.Size([5, 13]) \n",
      "Epoch 2 | Step: 35/36 | Examples: torch.Size([5, 13]) \n",
      "Epoch 3 | Step: 5/36 | Examples: torch.Size([5, 13]) \n",
      "Epoch 3 | Step: 10/36 | Examples: torch.Size([5, 13]) \n",
      "Epoch 3 | Step: 15/36 | Examples: torch.Size([5, 13]) \n",
      "Epoch 3 | Step: 20/36 | Examples: torch.Size([5, 13]) \n",
      "Epoch 3 | Step: 25/36 | Examples: torch.Size([5, 13]) \n",
      "Epoch 3 | Step: 30/36 | Examples: torch.Size([5, 13]) \n",
      "Epoch 3 | Step: 35/36 | Examples: torch.Size([5, 13]) \n"
     ]
    }
   ],
   "source": [
    "# Training loop: Interate over the whole dataloader (one batch pr. iteration)\n",
    "\n",
    "num_epochs = 3\n",
    "batch_size = 5\n",
    "total_samples = len(dataset) # 178\n",
    "n_iterations = math.ceil(total_samples / batch_size) # 178 / 5 = 36 iterations of 5 batches\n",
    "# print(total_samples, n_iterations) \n",
    "\n",
    "for epoch in range(num_epochs):\n",
    "    for i, (examples, labels) in enumerate(dataloader):\n",
    "        # train you mother\n",
    "        if (i+1) % 5 == 0:\n",
    "            print(f'Epoch {epoch+1} | Step: {i+1}/{n_iterations} | Examples: {examples.shape} ')\n",
    "\n"
   ]
  },
  {
   "cell_type": "code",
   "execution_count": 62,
   "metadata": {},
   "outputs": [
    {
     "name": "stdout",
     "output_type": "stream",
     "text": [
      "Downloading http://yann.lecun.com/exdb/mnist/train-images-idx3-ubyte.gz\n",
      "Downloading http://yann.lecun.com/exdb/mnist/train-images-idx3-ubyte.gz to ./data2/MNIST\\raw\\train-images-idx3-ubyte.gz\n"
     ]
    },
    {
     "name": "stderr",
     "output_type": "stream",
     "text": [
      "9913344it [00:03, 3032272.25it/s]                             \n"
     ]
    },
    {
     "name": "stdout",
     "output_type": "stream",
     "text": [
      "Extracting ./data2/MNIST\\raw\\train-images-idx3-ubyte.gz to ./data2/MNIST\\raw\n",
      "\n",
      "Downloading http://yann.lecun.com/exdb/mnist/train-labels-idx1-ubyte.gz\n",
      "Downloading http://yann.lecun.com/exdb/mnist/train-labels-idx1-ubyte.gz to ./data2/MNIST\\raw\\train-labels-idx1-ubyte.gz\n"
     ]
    },
    {
     "name": "stderr",
     "output_type": "stream",
     "text": [
      "29696it [00:00, 4868054.86it/s]          \n"
     ]
    },
    {
     "name": "stdout",
     "output_type": "stream",
     "text": [
      "Extracting ./data2/MNIST\\raw\\train-labels-idx1-ubyte.gz to ./data2/MNIST\\raw\n",
      "\n",
      "Downloading http://yann.lecun.com/exdb/mnist/t10k-images-idx3-ubyte.gz\n",
      "Downloading http://yann.lecun.com/exdb/mnist/t10k-images-idx3-ubyte.gz to ./data2/MNIST\\raw\\t10k-images-idx3-ubyte.gz\n"
     ]
    },
    {
     "name": "stderr",
     "output_type": "stream",
     "text": [
      "1649664it [00:00, 2784032.56it/s]                             \n"
     ]
    },
    {
     "name": "stdout",
     "output_type": "stream",
     "text": [
      "Extracting ./data2/MNIST\\raw\\t10k-images-idx3-ubyte.gz to ./data2/MNIST\\raw\n",
      "\n",
      "Downloading http://yann.lecun.com/exdb/mnist/t10k-labels-idx1-ubyte.gz\n",
      "Downloading http://yann.lecun.com/exdb/mnist/t10k-labels-idx1-ubyte.gz to ./data2/MNIST\\raw\\t10k-labels-idx1-ubyte.gz\n"
     ]
    },
    {
     "name": "stderr",
     "output_type": "stream",
     "text": [
      "5120it [00:00, 5127706.90it/s]          \n"
     ]
    },
    {
     "name": "stdout",
     "output_type": "stream",
     "text": [
      "Extracting ./data2/MNIST\\raw\\t10k-labels-idx1-ubyte.gz to ./data2/MNIST\\raw\n",
      "\n",
      "torch.Size([1000, 1, 28, 28]) torch.Size([1000])\n",
      "Epoch 1 | Step: 10/60 | Examples: torch.Size([1000, 1, 28, 28])\n",
      "Epoch 1 | Step: 20/60 | Examples: torch.Size([1000, 1, 28, 28])\n",
      "Epoch 1 | Step: 30/60 | Examples: torch.Size([1000, 1, 28, 28])\n",
      "Epoch 1 | Step: 40/60 | Examples: torch.Size([1000, 1, 28, 28])\n",
      "Epoch 1 | Step: 50/60 | Examples: torch.Size([1000, 1, 28, 28])\n",
      "Epoch 1 | Step: 60/60 | Examples: torch.Size([1000, 1, 28, 28])\n",
      "Epoch 2 | Step: 10/60 | Examples: torch.Size([1000, 1, 28, 28])\n",
      "Epoch 2 | Step: 20/60 | Examples: torch.Size([1000, 1, 28, 28])\n",
      "Epoch 2 | Step: 30/60 | Examples: torch.Size([1000, 1, 28, 28])\n",
      "Epoch 2 | Step: 40/60 | Examples: torch.Size([1000, 1, 28, 28])\n",
      "Epoch 2 | Step: 50/60 | Examples: torch.Size([1000, 1, 28, 28])\n",
      "Epoch 2 | Step: 60/60 | Examples: torch.Size([1000, 1, 28, 28])\n",
      "Epoch 3 | Step: 10/60 | Examples: torch.Size([1000, 1, 28, 28])\n",
      "Epoch 3 | Step: 20/60 | Examples: torch.Size([1000, 1, 28, 28])\n",
      "Epoch 3 | Step: 30/60 | Examples: torch.Size([1000, 1, 28, 28])\n",
      "Epoch 3 | Step: 40/60 | Examples: torch.Size([1000, 1, 28, 28])\n",
      "Epoch 3 | Step: 50/60 | Examples: torch.Size([1000, 1, 28, 28])\n",
      "Epoch 3 | Step: 60/60 | Examples: torch.Size([1000, 1, 28, 28])\n"
     ]
    }
   ],
   "source": [
    "# If using build-in pytorch datasets:\n",
    "\n",
    "batch_size = 1000\n",
    "\n",
    "data_train = torchvision.datasets.MNIST('./data2/',\n",
    "                                        train = True,\n",
    "                                        transform=torchvision.transforms.ToTensor(),\n",
    "                                        download=True)\n",
    "\n",
    "train_loader = DataLoader(dataset=data_train,batch_size=batch_size, shuffle=True)\n",
    "\n",
    "N = len(data_train) # 60000\n",
    "n_iterations = math.ceil(N / batch_size) # 60000 / 1000 = 600\n",
    "\n",
    "dataiter = iter(train_loader)\n",
    "data = dataiter.next()\n",
    "examples, labels = data\n",
    "print(examples.shape, labels.shape)\n",
    "\n",
    "num_epochs = 3\n",
    "\n",
    "for epoch in range(num_epochs):\n",
    "    for i, (examples, labels) in enumerate(train_loader):\n",
    "        if (i+1) % 10 == 0:\n",
    "            print(f'Epoch {epoch+1} | Step: {i+1}/{n_iterations} | Examples: {examples.shape}')\n"
   ]
  }
 ],
 "metadata": {
  "interpreter": {
   "hash": "c314c87e776466ef4f077dc585c9dc3eaee46cc84096b0d5b81aa8c7c1fafbb2"
  },
  "kernelspec": {
   "display_name": "Python 3.9.7 ('ai')",
   "language": "python",
   "name": "python3"
  },
  "language_info": {
   "codemirror_mode": {
    "name": "ipython",
    "version": 3
   },
   "file_extension": ".py",
   "mimetype": "text/x-python",
   "name": "python",
   "nbconvert_exporter": "python",
   "pygments_lexer": "ipython3",
   "version": "3.9.7"
  },
  "orig_nbformat": 4
 },
 "nbformat": 4,
 "nbformat_minor": 2
}

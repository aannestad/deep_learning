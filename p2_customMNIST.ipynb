{
 "cells": [
  {
   "cell_type": "markdown",
   "metadata": {},
   "source": [
    "# INF265 - Project 2\n",
    "By Hans Martin Aannestad"
   ]
  },
  {
   "cell_type": "code",
   "execution_count": 1,
   "metadata": {},
   "outputs": [],
   "source": [
    "import torch\n",
    "import torch.nn as nn\n",
    "import torch.optim as optim\n",
    "import numpy as np\n",
    "import torchvision\n",
    "from torchvision import datasets, transforms\n",
    "from torch.utils.data import Dataset, DataLoader\n",
    "from torchinfo import summary\n",
    "import matplotlib.pyplot as plt\n",
    "import time\n",
    "import os\n",
    "from tqdm import tqdm\n",
    "import cv2\n",
    "\n",
    "torch.backends.cudnn.benchmark = True"
   ]
  },
  {
   "cell_type": "markdown",
   "metadata": {},
   "source": [
    "## 2 Object localization\n",
    "\n",
    "• Load the 3 localization datasets localization XXX.pt. There is at most one digit per image. All digits are represented (C = 10)."
   ]
  },
  {
   "cell_type": "code",
   "execution_count": 2,
   "metadata": {},
   "outputs": [],
   "source": [
    "class CustomMNIST(Dataset):\n",
    "\n",
    "    def __init__(self, data):\n",
    "        # Loading the raw data\n",
    "        #data = np.loadtxt('./data/wine.csv',delimiter=\",\",dtype=np.float32,skiprows=1)\n",
    "        self.data = data #torch.load('localization_train.pt') #torch.from_numpy(data[:,1:]) # features from second column\n",
    "        #self.y = data[1] # # torch.from_numpy(data[:,[0]])  # labels in first column (n_samples,1)\n",
    "        self.n_samples = len(self.data) #.shape[0] # length of numpy array\n",
    "\n",
    "    def __getitem__(self, index):\n",
    "        # Support for indexing: dataset[0]\n",
    "        return self.data[index] #, self.y[index] # return tuple \n",
    "\n",
    "    def __len__(self):\n",
    "        # Support for len(dataset)\n",
    "        return self.n_samples\n",
    "        \n",
    "#x = len(torch.load('localization_train.pt'))\n",
    "#print(x)\n",
    "#print(x[53999][0][0].size())"
   ]
  },
  {
   "cell_type": "code",
   "execution_count": 3,
   "metadata": {},
   "outputs": [],
   "source": [
    "train_data = CustomMNIST(torch.load('localization_train.pt'))\n",
    "train_loader = DataLoader(train_data,batch_size=10, shuffle=False)\n",
    "#print(len(train_loader))\n",
    "\n",
    "val_data = CustomMNIST(torch.load('localization_val.pt'))\n",
    "val_loader = DataLoader(val_data,batch_size=10, shuffle=False)\n",
    "#print(len(val_loader))\n",
    "\n",
    "test_data = CustomMNIST(torch.load('localization_test.pt'))\n",
    "test_loader = DataLoader(test_data,batch_size=10, shuffle=False)\n",
    "#print(len(test_loader))\n",
    "\n",
    "examples = iter(train_loader)\n"
   ]
  },
  {
   "cell_type": "code",
   "execution_count": 9,
   "metadata": {},
   "outputs": [
    {
     "name": "stderr",
     "output_type": "stream",
     "text": [
      "Clipping input data to the valid range for imshow with RGB data ([0..1] for floats or [0..255] for integers).\n"
     ]
    },
    {
     "name": "stdout",
     "output_type": "stream",
     "text": [
      "3.0\n",
      "tensor([1.0000, 0.5000, 0.6250, 0.2000, 0.3750, 3.0000])\n"
     ]
    },
    {
     "data": {
      "text/plain": [
       "<matplotlib.image.AxesImage at 0x213f0e6dbb0>"
      ]
     },
     "execution_count": 9,
     "metadata": {},
     "output_type": "execute_result"
    },
    {
     "data": {
      "image/png": "[encoded data removed]",
      "text/plain": [
       "<Figure size 432x288 with 1 Axes>"
      ]
     },
     "metadata": {
      "needs_background": "light"
     },
     "output_type": "display_data"
    }
   ],
   "source": [
    "x,y = examples.next() # next BATCH\n",
    "\n",
    "y_label = y[0][-1].item()\n",
    "print(y_label) # verity y label\n",
    "\n",
    "print(y[0])\n",
    "\n",
    "x_h=int(y[0][3].item()*60)\n",
    "x_w=int(y[0][4].item()*48)\n",
    "\n",
    "x_1=int(y[0][1].item()*60-x_h/2)\n",
    "y_1=int(y[0][2].item()*48-x_w/2)\n",
    "x_2=int(y[0][1].item()*60+x_h/2)\n",
    "y_2=int(y[0][2].item()*48+x_w/2)\n",
    "\n",
    "grayImage = cv2.cvtColor(torch.squeeze(x[0]).numpy(), cv2.COLOR_GRAY2BGR)\n",
    "plt.imshow(cv2.rectangle(grayImage, (x_1, y_1), (x_2, y_2),(255, 0, 0),1)) # predicted box\n",
    "#plt.imshow(cv2.rectangle(grayImage, (30, 4), (4, 30),(0, 255, 0),1)) # true box"
   ]
  },
  {
   "cell_type": "code",
   "execution_count": null,
   "metadata": {},
   "outputs": [],
   "source": [
    "def load_MNIST(preprocessor, num_workers):\n",
    "    train_dataset = datasets.MNIST(\"./MNIST_root/\", train=True, transform=preprocessor)\n",
    "    val_test_dataset = datasets.MNIST(\"./MNIST_root/\", train=False, transform=preprocessor)\n",
    "    n_val_test = len(val_test_dataset.targets)\n",
    "    val_dataset, test_dataset = torch.utils.data.random_split(val_test_dataset, [n_val_test-30, 30])\n",
    "    MNIST_datasets = {\"train\": train_dataset, \n",
    "                      \"val\": val_dataset,\n",
    "                      \"test\": test_dataset}\n",
    "    MNIST_generators = {\"train\": torch.utils.data.DataLoader(MNIST_datasets[\"train\"], \n",
    "                                                             batch_size=4, \n",
    "                                                             shuffle=True, \n",
    "                                                             num_workers=num_workers),\n",
    "                        \"val\": torch.utils.data.DataLoader(MNIST_datasets[\"val\"], \n",
    "                                                           batch_size=256, \n",
    "                                                           shuffle=False, \n",
    "                                                           num_workers=num_workers),\n",
    "                        \"test\": torch.utils.data.DataLoader(MNIST_datasets[\"test\"], \n",
    "                                                            batch_size=30, \n",
    "                                                            shuffle=False, \n",
    "                                                            num_workers=num_workers)}\n",
    "    return MNIST_datasets, MNIST_generators"
   ]
  },
  {
   "cell_type": "code",
   "execution_count": null,
   "metadata": {},
   "outputs": [],
   "source": [
    "CNN_40 = nn.Sequential(nn.Conv2d(in_channels=1, out_channels=6, kernel_size=5),\n",
    "                       nn.MaxPool2d(kernel_size=2),\n",
    "                       nn.ReLU(),\n",
    "                       nn.Conv2d(in_channels=8, out_channels=16, kernel_size=5),\n",
    "                       nn.MaxPool2d(kernel_size=2),\n",
    "                       nn.ReLU(),\n",
    "                       nn.Conv2d(in_channels=16, out_channels=512, kernel_size=7),\n",
    "                       nn.ReLU(),\n",
    "                       nn.Conv2d(in_channels=512, out_channels=256, kernel_size=1),\n",
    "                       nn.ReLU(),\n",
    "                       nn.Conv2d(in_channels=256, out_channels=128, kernel_size=1),\n",
    "                       nn.ReLU(),\n",
    "                       nn.Conv2d(in_channels=128, out_channels=64, kernel_size=1),\n",
    "                       nn.ReLU(),\n",
    "                       nn.Conv2d(in_channels=64, out_channels=32, kernel_size=1),\n",
    "                       nn.ReLU(),\n",
    "                       nn.Conv2d(in_channels=32, out_channels=15, kernel_size=1))\n",
    "window_size = 40\n",
    "print(summary(CNN_40))  #,(3, window_size, window_size))\n",
    "\n",
    "# Two max-pooling(2):\n",
    "stride = 2**2"
   ]
  }
 ],
 "metadata": {
  "interpreter": {
   "hash": "c314c87e776466ef4f077dc585c9dc3eaee46cc84096b0d5b81aa8c7c1fafbb2"
  },
  "kernelspec": {
   "display_name": "Python 3.9.7 ('ai')",
   "language": "python",
   "name": "python3"
  },
  "language_info": {
   "codemirror_mode": {
    "name": "ipython",
    "version": 3
   },
   "file_extension": ".py",
   "mimetype": "text/x-python",
   "name": "python",
   "nbconvert_exporter": "python",
   "pygments_lexer": "ipython3",
   "version": "3.9.7"
  },
  "orig_nbformat": 4
 },
 "nbformat": 4,
 "nbformat_minor": 2
}

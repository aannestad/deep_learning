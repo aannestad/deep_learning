{
 "metadata": {
  "language_info": {
   "codemirror_mode": {
    "name": "ipython",
    "version": 3
   },
   "file_extension": ".py",
   "mimetype": "text/x-python",
   "name": "python",
   "nbconvert_exporter": "python",
   "pygments_lexer": "ipython3",
   "version": "3.8.5-final"
  },
  "orig_nbformat": 2,
  "kernelspec": {
   "name": "python3",
   "display_name": "Python 3",
   "language": "python"
  }
 },
 "nbformat": 4,
 "nbformat_minor": 2,
 "cells": [
  {
   "source": [
    "Assigment by: Hans Martin Aannestad"
   ],
   "cell_type": "markdown",
   "metadata": {}
  },
  {
   "source": [
    "# Getting acquainted with pre-trained deep neural networks and PyTorch\n",
    "\n",
    "### General instructions\n",
    "\n",
    "Each week you will be given an assignment related to the associated module. You have roughly one week to complete and submit each of them. There are 3 weekly group sessions available to help you complete the assignments, you are invited to attend one of them each week (please choose one group session and stick to it unless exceptional case). Attendance is not mandatory but recommended. However, **assignments are graded** each week and not submitting them or submitting them after the deadline will give you no points.\n",
    "\n",
    "This jupyter notebook is the first weekly assignment of this course. We strongly recommend you to use anaconda to manage your python packages as well as for installing jupyter if it is not already done. For this course we will use PyTorch so you probably need to install some of the packages imported in the first cell of this notebook. \n",
    "\n",
    "If you are new to jupyter notebook please follow this [link](https://realpython.com/jupyter-notebook-introduction/) or any beginner's tutorial that would suit you well.\n",
    "\n",
    "In this notebook you will be guided since it is the first assignment. At the beginning of this notebook, most cells just need to be run and you just have to read (and click on the links). Later, you will have to complete the code (when there are \"TODOS\" and \"...\"), answer the questions (you can either create a new cell below the questions or answer directly in the same cell as the questions) and submit an **archive** to MittUiB containing\n",
    "- your completed notebook\n",
    "- the file '``list_labels.txt``'\n",
    "- your images (in the '``imgs``' folder)\n",
    "\n",
    "Please include **your name** in your submitted file so that graders can easily distinguish between all students files\n",
    "\n",
    "Submit your archive by **Sunday 31st, 23:59.**\n",
    "\n",
    "### Introduction\n",
    "\n",
    "This week we will get a quick idea of what a deep neural network looks like and what it is capable of when it comes to image classification tasks. To do so we will play with a pre-trained neural network (ResNet101). In addition we will make our first steps in PyTorch.\n",
    "\n",
    "## Contents:\n",
    "\n",
    "1. Deep neural network in PyTorch\n",
    "\n",
    "  1.1 Pre-trained deep neural network models available in PyTorch  \n",
    "  1.2. ResNet architecture and ResNet101 model  \n",
    "  1.3 Neural network implementation in PyTorch\n",
    "  1.4 Define a preprocess pipeline using PyTorch's transforms\n",
    "  \n",
    "2. Making predictions with a pre-trained network\n",
    "\n",
    "  2.1 Load and preprocess an image  \n",
    "  2.2 Extract labels with which ResNet was trained  \n",
    "  2.3 Interpreting the output\n",
    "  2.4 Top-1 and Top-5 errors\n",
    "\n",
    "  \n",
    "3. Playing with the ResNet model\n",
    "\n",
    "4. Good to know"
   ],
   "cell_type": "markdown",
   "metadata": {}
  },
  {
   "cell_type": "code",
   "execution_count": 12,
   "metadata": {},
   "outputs": [],
   "source": [
    "import pandas as pd"
   ]
  },
  {
   "cell_type": "code",
   "execution_count": 13,
   "metadata": {},
   "outputs": [],
   "source": [
    "from torchvision import models"
   ]
  },
  {
   "cell_type": "code",
   "execution_count": 14,
   "metadata": {},
   "outputs": [],
   "source": [
    "import torch\n",
    "from torchvision import models\n",
    "from torchvision import transforms\n",
    "from PIL import Image\n",
    "from os import listdir"
   ]
  },
  {
   "source": [
    "## 1. Deep neural network in PyTorch\n",
    "\n",
    "### 1.1 Pre-trained deep neural network models available in PyTorch\n",
    "\n",
    "As written in the documentation:\n",
    "\n",
    "> The [torchvision.models](https://pytorch.org/docs/stable/torchvision/models.html#torchvision-models) subpackage contains definitions of models for addressing different tasks, including: image classification, pixelwise semantic segmentation, object detection, instance segmentation, person keypoint detection and video classification. \\[...\\] It provides pre-trained models,"
   ],
   "cell_type": "markdown",
   "metadata": {}
  },
  {
   "cell_type": "code",
   "execution_count": 5,
   "metadata": {},
   "outputs": [
    {
     "output_type": "stream",
     "name": "stdout",
     "text": [
      "['AlexNet', 'DenseNet', 'GoogLeNet', 'GoogLeNetOutputs', 'Inception3', 'InceptionOutputs', 'MNASNet', 'MobileNetV2', 'ResNet', 'ShuffleNetV2', 'SqueezeNet', 'VGG', '_GoogLeNetOutputs', '_InceptionOutputs', '__builtins__', '__cached__', '__doc__', '__file__', '__loader__', '__name__', '__package__', '__path__', '__spec__', '_utils', 'alexnet', 'densenet', 'densenet121', 'densenet161', 'densenet169', 'densenet201', 'detection', 'googlenet', 'inception', 'inception_v3', 'mnasnet', 'mnasnet0_5', 'mnasnet0_75', 'mnasnet1_0', 'mnasnet1_3', 'mobilenet', 'mobilenet_v2', 'quantization', 'resnet', 'resnet101', 'resnet152', 'resnet18', 'resnet34', 'resnet50', 'resnext101_32x8d', 'resnext50_32x4d', 'segmentation', 'shufflenet_v2_x0_5', 'shufflenet_v2_x1_0', 'shufflenet_v2_x1_5', 'shufflenet_v2_x2_0', 'shufflenetv2', 'squeezenet', 'squeezenet1_0', 'squeezenet1_1', 'utils', 'vgg', 'vgg11', 'vgg11_bn', 'vgg13', 'vgg13_bn', 'vgg16', 'vgg16_bn', 'vgg19', 'vgg19_bn', 'video', 'wide_resnet101_2', 'wide_resnet50_2']\n72\n"
     ]
    }
   ],
   "source": [
    "print(dir(models))\n",
    "print(len(dir(models)))"
   ]
  },
  {
   "source": [
    "### 1.2 ResNet architecture and ResNet101 model\n",
    "\n",
    "[ResNet](https://arxiv.org/abs/1512.03385) is a deep residual neural network that aims at classifying images. We can get an idea of its architecture by simply using ``print``"
   ],
   "cell_type": "markdown",
   "metadata": {}
  },
  {
   "cell_type": "code",
   "execution_count": 15,
   "metadata": {
    "tags": [
     "outputPrepend"
    ]
   },
   "outputs": [
    {
     "output_type": "stream",
     "name": "stderr",
     "text": [
      "track_running_stats=True)\n",
      "      )\n",
      "    )\n",
      "    (1): Bottleneck(\n",
      "      (conv1): Conv2d(256, 64, kernel_size=(1, 1), stride=(1, 1), bias=False)\n",
      "      (bn1): BatchNorm2d(64, eps=1e-05, momentum=0.1, affine=True, track_running_stats=True)\n",
      "      (conv2): Conv2d(64, 64, kernel_size=(3, 3), stride=(1, 1), padding=(1, 1), bias=False)\n",
      "      (bn2): BatchNorm2d(64, eps=1e-05, momentum=0.1, affine=True, track_running_stats=True)\n",
      "      (conv3): Conv2d(64, 256, kernel_size=(1, 1), stride=(1, 1), bias=False)\n",
      "      (bn3): BatchNorm2d(256, eps=1e-05, momentum=0.1, affine=True, track_running_stats=True)\n",
      "      (relu): ReLU(inplace=True)\n",
      "    )\n",
      "    (2): Bottleneck(\n",
      "      (conv1): Conv2d(256, 64, kernel_size=(1, 1), stride=(1, 1), bias=False)\n",
      "      (bn1): BatchNorm2d(64, eps=1e-05, momentum=0.1, affine=True, track_running_stats=True)\n",
      "      (conv2): Conv2d(64, 64, kernel_size=(3, 3), stride=(1, 1), padding=(1, 1), bias=False)\n",
      "      (bn2): BatchNorm2d(64, eps=1e-05, momentum=0.1, affine=True, track_running_stats=True)\n",
      "      (conv3): Conv2d(64, 256, kernel_size=(1, 1), stride=(1, 1), bias=False)\n",
      "      (bn3): BatchNorm2d(256, eps=1e-05, momentum=0.1, affine=True, track_running_stats=True)\n",
      "      (relu): ReLU(inplace=True)\n",
      "    )\n",
      "  )\n",
      "  (layer2): Sequential(\n",
      "    (0): Bottleneck(\n",
      "      (conv1): Conv2d(256, 128, kernel_size=(1, 1), stride=(1, 1), bias=False)\n",
      "      (bn1): BatchNorm2d(128, eps=1e-05, momentum=0.1, affine=True, track_running_stats=True)\n",
      "      (conv2): Conv2d(128, 128, kernel_size=(3, 3), stride=(2, 2), padding=(1, 1), bias=False)\n",
      "      (bn2): BatchNorm2d(128, eps=1e-05, momentum=0.1, affine=True, track_running_stats=True)\n",
      "      (conv3): Conv2d(128, 512, kernel_size=(1, 1), stride=(1, 1), bias=False)\n",
      "      (bn3): BatchNorm2d(512, eps=1e-05, momentum=0.1, affine=True, track_running_stats=True)\n",
      "      (relu): ReLU(inplace=True)\n",
      "      (downsample): Sequential(\n",
      "        (0): Conv2d(256, 512, kernel_size=(1, 1), stride=(2, 2), bias=False)\n",
      "        (1): BatchNorm2d(512, eps=1e-05, momentum=0.1, affine=True, track_running_stats=True)\n",
      "      )\n",
      "    )\n",
      "    (1): Bottleneck(\n",
      "      (conv1): Conv2d(512, 128, kernel_size=(1, 1), stride=(1, 1), bias=False)\n",
      "      (bn1): BatchNorm2d(128, eps=1e-05, momentum=0.1, affine=True, track_running_stats=True)\n",
      "      (conv2): Conv2d(128, 128, kernel_size=(3, 3), stride=(1, 1), padding=(1, 1), bias=False)\n",
      "      (bn2): BatchNorm2d(128, eps=1e-05, momentum=0.1, affine=True, track_running_stats=True)\n",
      "      (conv3): Conv2d(128, 512, kernel_size=(1, 1), stride=(1, 1), bias=False)\n",
      "      (bn3): BatchNorm2d(512, eps=1e-05, momentum=0.1, affine=True, track_running_stats=True)\n",
      "      (relu): ReLU(inplace=True)\n",
      "    )\n",
      "    (2): Bottleneck(\n",
      "      (conv1): Conv2d(512, 128, kernel_size=(1, 1), stride=(1, 1), bias=False)\n",
      "      (bn1): BatchNorm2d(128, eps=1e-05, momentum=0.1, affine=True, track_running_stats=True)\n",
      "      (conv2): Conv2d(128, 128, kernel_size=(3, 3), stride=(1, 1), padding=(1, 1), bias=False)\n",
      "      (bn2): BatchNorm2d(128, eps=1e-05, momentum=0.1, affine=True, track_running_stats=True)\n",
      "      (conv3): Conv2d(128, 512, kernel_size=(1, 1), stride=(1, 1), bias=False)\n",
      "      (bn3): BatchNorm2d(512, eps=1e-05, momentum=0.1, affine=True, track_running_stats=True)\n",
      "      (relu): ReLU(inplace=True)\n",
      "    )\n",
      "    (3): Bottleneck(\n",
      "      (conv1): Conv2d(512, 128, kernel_size=(1, 1), stride=(1, 1), bias=False)\n",
      "      (bn1): BatchNorm2d(128, eps=1e-05, momentum=0.1, affine=True, track_running_stats=True)\n",
      "      (conv2): Conv2d(128, 128, kernel_size=(3, 3), stride=(1, 1), padding=(1, 1), bias=False)\n",
      "      (bn2): BatchNorm2d(128, eps=1e-05, momentum=0.1, affine=True, track_running_stats=True)\n",
      "      (conv3): Conv2d(128, 512, kernel_size=(1, 1), stride=(1, 1), bias=False)\n",
      "      (bn3): BatchNorm2d(512, eps=1e-05, momentum=0.1, affine=True, track_running_stats=True)\n",
      "      (relu): ReLU(inplace=True)\n",
      "    )\n",
      "  )\n",
      "  (layer3): Sequential(\n",
      "    (0): Bottleneck(\n",
      "      (conv1): Conv2d(512, 256, kernel_size=(1, 1), stride=(1, 1), bias=False)\n",
      "      (bn1): BatchNorm2d(256, eps=1e-05, momentum=0.1, affine=True, track_running_stats=True)\n",
      "      (conv2): Conv2d(256, 256, kernel_size=(3, 3), stride=(2, 2), padding=(1, 1), bias=False)\n",
      "      (bn2): BatchNorm2d(256, eps=1e-05, momentum=0.1, affine=True, track_running_stats=True)\n",
      "      (conv3): Conv2d(256, 1024, kernel_size=(1, 1), stride=(1, 1), bias=False)\n",
      "      (bn3): BatchNorm2d(1024, eps=1e-05, momentum=0.1, affine=True, track_running_stats=True)\n",
      "      (relu): ReLU(inplace=True)\n",
      "      (downsample): Sequential(\n",
      "        (0): Conv2d(512, 1024, kernel_size=(1, 1), stride=(2, 2), bias=False)\n",
      "        (1): BatchNorm2d(1024, eps=1e-05, momentum=0.1, affine=True, track_running_stats=True)\n",
      "      )\n",
      "    )\n",
      "    (1): Bottleneck(\n",
      "      (conv1): Conv2d(1024, 256, kernel_size=(1, 1), stride=(1, 1), bias=False)\n",
      "      (bn1): BatchNorm2d(256, eps=1e-05, momentum=0.1, affine=True, track_running_stats=True)\n",
      "      (conv2): Conv2d(256, 256, kernel_size=(3, 3), stride=(1, 1), padding=(1, 1), bias=False)\n",
      "      (bn2): BatchNorm2d(256, eps=1e-05, momentum=0.1, affine=True, track_running_stats=True)\n",
      "      (conv3): Conv2d(256, 1024, kernel_size=(1, 1), stride=(1, 1), bias=False)\n",
      "      (bn3): BatchNorm2d(1024, eps=1e-05, momentum=0.1, affine=True, track_running_stats=True)\n",
      "      (relu): ReLU(inplace=True)\n",
      "    )\n",
      "    (2): Bottleneck(\n",
      "      (conv1): Conv2d(1024, 256, kernel_size=(1, 1), stride=(1, 1), bias=False)\n",
      "      (bn1): BatchNorm2d(256, eps=1e-05, momentum=0.1, affine=True, track_running_stats=True)\n",
      "      (conv2): Conv2d(256, 256, kernel_size=(3, 3), stride=(1, 1), padding=(1, 1), bias=False)\n",
      "      (bn2): BatchNorm2d(256, eps=1e-05, momentum=0.1, affine=True, track_running_stats=True)\n",
      "      (conv3): Conv2d(256, 1024, kernel_size=(1, 1), stride=(1, 1), bias=False)\n",
      "      (bn3): BatchNorm2d(1024, eps=1e-05, momentum=0.1, affine=True, track_running_stats=True)\n",
      "      (relu): ReLU(inplace=True)\n",
      "    )\n",
      "    (3): Bottleneck(\n",
      "      (conv1): Conv2d(1024, 256, kernel_size=(1, 1), stride=(1, 1), bias=False)\n",
      "      (bn1): BatchNorm2d(256, eps=1e-05, momentum=0.1, affine=True, track_running_stats=True)\n",
      "      (conv2): Conv2d(256, 256, kernel_size=(3, 3), stride=(1, 1), padding=(1, 1), bias=False)\n",
      "      (bn2): BatchNorm2d(256, eps=1e-05, momentum=0.1, affine=True, track_running_stats=True)\n",
      "      (conv3): Conv2d(256, 1024, kernel_size=(1, 1), stride=(1, 1), bias=False)\n",
      "      (bn3): BatchNorm2d(1024, eps=1e-05, momentum=0.1, affine=True, track_running_stats=True)\n",
      "      (relu): ReLU(inplace=True)\n",
      "    )\n",
      "    (4): Bottleneck(\n",
      "      (conv1): Conv2d(1024, 256, kernel_size=(1, 1), stride=(1, 1), bias=False)\n",
      "      (bn1): BatchNorm2d(256, eps=1e-05, momentum=0.1, affine=True, track_running_stats=True)\n",
      "      (conv2): Conv2d(256, 256, kernel_size=(3, 3), stride=(1, 1), padding=(1, 1), bias=False)\n",
      "      (bn2): BatchNorm2d(256, eps=1e-05, momentum=0.1, affine=True, track_running_stats=True)\n",
      "      (conv3): Conv2d(256, 1024, kernel_size=(1, 1), stride=(1, 1), bias=False)\n",
      "      (bn3): BatchNorm2d(1024, eps=1e-05, momentum=0.1, affine=True, track_running_stats=True)\n",
      "      (relu): ReLU(inplace=True)\n",
      "    )\n",
      "    (5): Bottleneck(\n",
      "      (conv1): Conv2d(1024, 256, kernel_size=(1, 1), stride=(1, 1), bias=False)\n",
      "      (bn1): BatchNorm2d(256, eps=1e-05, momentum=0.1, affine=True, track_running_stats=True)\n",
      "      (conv2): Conv2d(256, 256, kernel_size=(3, 3), stride=(1, 1), padding=(1, 1), bias=False)\n",
      "      (bn2): BatchNorm2d(256, eps=1e-05, momentum=0.1, affine=True, track_running_stats=True)\n",
      "      (conv3): Conv2d(256, 1024, kernel_size=(1, 1), stride=(1, 1), bias=False)\n",
      "      (bn3): BatchNorm2d(1024, eps=1e-05, momentum=0.1, affine=True, track_running_stats=True)\n",
      "      (relu): ReLU(inplace=True)\n",
      "    )\n",
      "    (6): Bottleneck(\n",
      "      (conv1): Conv2d(1024, 256, kernel_size=(1, 1), stride=(1, 1), bias=False)\n",
      "      (bn1): BatchNorm2d(256, eps=1e-05, momentum=0.1, affine=True, track_running_stats=True)\n",
      "      (conv2): Conv2d(256, 256, kernel_size=(3, 3), stride=(1, 1), padding=(1, 1), bias=False)\n",
      "      (bn2): BatchNorm2d(256, eps=1e-05, momentum=0.1, affine=True, track_running_stats=True)\n",
      "      (conv3): Conv2d(256, 1024, kernel_size=(1, 1), stride=(1, 1), bias=False)\n",
      "      (bn3): BatchNorm2d(1024, eps=1e-05, momentum=0.1, affine=True, track_running_stats=True)\n",
      "      (relu): ReLU(inplace=True)\n",
      "    )\n",
      "    (7): Bottleneck(\n",
      "      (conv1): Conv2d(1024, 256, kernel_size=(1, 1), stride=(1, 1), bias=False)\n",
      "      (bn1): BatchNorm2d(256, eps=1e-05, momentum=0.1, affine=True, track_running_stats=True)\n",
      "      (conv2): Conv2d(256, 256, kernel_size=(3, 3), stride=(1, 1), padding=(1, 1), bias=False)\n",
      "      (bn2): BatchNorm2d(256, eps=1e-05, momentum=0.1, affine=True, track_running_stats=True)\n",
      "      (conv3): Conv2d(256, 1024, kernel_size=(1, 1), stride=(1, 1), bias=False)\n",
      "      (bn3): BatchNorm2d(1024, eps=1e-05, momentum=0.1, affine=True, track_running_stats=True)\n",
      "      (relu): ReLU(inplace=True)\n",
      "    )\n",
      "    (8): Bottleneck(\n",
      "      (conv1): Conv2d(1024, 256, kernel_size=(1, 1), stride=(1, 1), bias=False)\n",
      "      (bn1): BatchNorm2d(256, eps=1e-05, momentum=0.1, affine=True, track_running_stats=True)\n",
      "      (conv2): Conv2d(256, 256, kernel_size=(3, 3), stride=(1, 1), padding=(1, 1), bias=False)\n",
      "      (bn2): BatchNorm2d(256, eps=1e-05, momentum=0.1, affine=True, track_running_stats=True)\n",
      "      (conv3): Conv2d(256, 1024, kernel_size=(1, 1), stride=(1, 1), bias=False)\n",
      "      (bn3): BatchNorm2d(1024, eps=1e-05, momentum=0.1, affine=True, track_running_stats=True)\n",
      "      (relu): ReLU(inplace=True)\n",
      "    )\n",
      "    (9): Bottleneck(\n",
      "      (conv1): Conv2d(1024, 256, kernel_size=(1, 1), stride=(1, 1), bias=False)\n",
      "      (bn1): BatchNorm2d(256, eps=1e-05, momentum=0.1, affine=True, track_running_stats=True)\n",
      "      (conv2): Conv2d(256, 256, kernel_size=(3, 3), stride=(1, 1), padding=(1, 1), bias=False)\n",
      "      (bn2): BatchNorm2d(256, eps=1e-05, momentum=0.1, affine=True, track_running_stats=True)\n",
      "      (conv3): Conv2d(256, 1024, kernel_size=(1, 1), stride=(1, 1), bias=False)\n",
      "      (bn3): BatchNorm2d(1024, eps=1e-05, momentum=0.1, affine=True, track_running_stats=True)\n",
      "      (relu): ReLU(inplace=True)\n",
      "    )\n",
      "    (10): Bottleneck(\n",
      "      (conv1): Conv2d(1024, 256, kernel_size=(1, 1), stride=(1, 1), bias=False)\n",
      "      (bn1): BatchNorm2d(256, eps=1e-05, momentum=0.1, affine=True, track_running_stats=True)\n",
      "      (conv2): Conv2d(256, 256, kernel_size=(3, 3), stride=(1, 1), padding=(1, 1), bias=False)\n",
      "      (bn2): BatchNorm2d(256, eps=1e-05, momentum=0.1, affine=True, track_running_stats=True)\n",
      "      (conv3): Conv2d(256, 1024, kernel_size=(1, 1), stride=(1, 1), bias=False)\n",
      "      (bn3): BatchNorm2d(1024, eps=1e-05, momentum=0.1, affine=True, track_running_stats=True)\n",
      "      (relu): ReLU(inplace=True)\n",
      "    )\n",
      "    (11): Bottleneck(\n",
      "      (conv1): Conv2d(1024, 256, kernel_size=(1, 1), stride=(1, 1), bias=False)\n",
      "      (bn1): BatchNorm2d(256, eps=1e-05, momentum=0.1, affine=True, track_running_stats=True)\n",
      "      (conv2): Conv2d(256, 256, kernel_size=(3, 3), stride=(1, 1), padding=(1, 1), bias=False)\n",
      "      (bn2): BatchNorm2d(256, eps=1e-05, momentum=0.1, affine=True, track_running_stats=True)\n",
      "      (conv3): Conv2d(256, 1024, kernel_size=(1, 1), stride=(1, 1), bias=False)\n",
      "      (bn3): BatchNorm2d(1024, eps=1e-05, momentum=0.1, affine=True, track_running_stats=True)\n",
      "      (relu): ReLU(inplace=True)\n",
      "    )\n",
      "    (12): Bottleneck(\n",
      "      (conv1): Conv2d(1024, 256, kernel_size=(1, 1), stride=(1, 1), bias=False)\n",
      "      (bn1): BatchNorm2d(256, eps=1e-05, momentum=0.1, affine=True, track_running_stats=True)\n",
      "      (conv2): Conv2d(256, 256, kernel_size=(3, 3), stride=(1, 1), padding=(1, 1), bias=False)\n",
      "      (bn2): BatchNorm2d(256, eps=1e-05, momentum=0.1, affine=True, track_running_stats=True)\n",
      "      (conv3): Conv2d(256, 1024, kernel_size=(1, 1), stride=(1, 1), bias=False)\n",
      "      (bn3): BatchNorm2d(1024, eps=1e-05, momentum=0.1, affine=True, track_running_stats=True)\n",
      "      (relu): ReLU(inplace=True)\n",
      "    )\n",
      "    (13): Bottleneck(\n",
      "      (conv1): Conv2d(1024, 256, kernel_size=(1, 1), stride=(1, 1), bias=False)\n",
      "      (bn1): BatchNorm2d(256, eps=1e-05, momentum=0.1, affine=True, track_running_stats=True)\n",
      "      (conv2): Conv2d(256, 256, kernel_size=(3, 3), stride=(1, 1), padding=(1, 1), bias=False)\n",
      "      (bn2): BatchNorm2d(256, eps=1e-05, momentum=0.1, affine=True, track_running_stats=True)\n",
      "      (conv3): Conv2d(256, 1024, kernel_size=(1, 1), stride=(1, 1), bias=False)\n",
      "      (bn3): BatchNorm2d(1024, eps=1e-05, momentum=0.1, affine=True, track_running_stats=True)\n",
      "      (relu): ReLU(inplace=True)\n",
      "    )\n",
      "    (14): Bottleneck(\n",
      "      (conv1): Conv2d(1024, 256, kernel_size=(1, 1), stride=(1, 1), bias=False)\n",
      "      (bn1): BatchNorm2d(256, eps=1e-05, momentum=0.1, affine=True, track_running_stats=True)\n",
      "      (conv2): Conv2d(256, 256, kernel_size=(3, 3), stride=(1, 1), padding=(1, 1), bias=False)\n",
      "      (bn2): BatchNorm2d(256, eps=1e-05, momentum=0.1, affine=True, track_running_stats=True)\n",
      "      (conv3): Conv2d(256, 1024, kernel_size=(1, 1), stride=(1, 1), bias=False)\n",
      "      (bn3): BatchNorm2d(1024, eps=1e-05, momentum=0.1, affine=True, track_running_stats=True)\n",
      "      (relu): ReLU(inplace=True)\n",
      "    )\n",
      "    (15): Bottleneck(\n",
      "      (conv1): Conv2d(1024, 256, kernel_size=(1, 1), stride=(1, 1), bias=False)\n",
      "      (bn1): BatchNorm2d(256, eps=1e-05, momentum=0.1, affine=True, track_running_stats=True)\n",
      "      (conv2): Conv2d(256, 256, kernel_size=(3, 3), stride=(1, 1), padding=(1, 1), bias=False)\n",
      "      (bn2): BatchNorm2d(256, eps=1e-05, momentum=0.1, affine=True, track_running_stats=True)\n",
      "      (conv3): Conv2d(256, 1024, kernel_size=(1, 1), stride=(1, 1), bias=False)\n",
      "      (bn3): BatchNorm2d(1024, eps=1e-05, momentum=0.1, affine=True, track_running_stats=True)\n",
      "      (relu): ReLU(inplace=True)\n",
      "    )\n",
      "    (16): Bottleneck(\n",
      "      (conv1): Conv2d(1024, 256, kernel_size=(1, 1), stride=(1, 1), bias=False)\n",
      "      (bn1): BatchNorm2d(256, eps=1e-05, momentum=0.1, affine=True, track_running_stats=True)\n",
      "      (conv2): Conv2d(256, 256, kernel_size=(3, 3), stride=(1, 1), padding=(1, 1), bias=False)\n",
      "      (bn2): BatchNorm2d(256, eps=1e-05, momentum=0.1, affine=True, track_running_stats=True)\n",
      "      (conv3): Conv2d(256, 1024, kernel_size=(1, 1), stride=(1, 1), bias=False)\n",
      "      (bn3): BatchNorm2d(1024, eps=1e-05, momentum=0.1, affine=True, track_running_stats=True)\n",
      "      (relu): ReLU(inplace=True)\n",
      "    )\n",
      "    (17): Bottleneck(\n",
      "      (conv1): Conv2d(1024, 256, kernel_size=(1, 1), stride=(1, 1), bias=False)\n",
      "      (bn1): BatchNorm2d(256, eps=1e-05, momentum=0.1, affine=True, track_running_stats=True)\n",
      "      (conv2): Conv2d(256, 256, kernel_size=(3, 3), stride=(1, 1), padding=(1, 1), bias=False)\n",
      "      (bn2): BatchNorm2d(256, eps=1e-05, momentum=0.1, affine=True, track_running_stats=True)\n",
      "      (conv3): Conv2d(256, 1024, kernel_size=(1, 1), stride=(1, 1), bias=False)\n",
      "      (bn3): BatchNorm2d(1024, eps=1e-05, momentum=0.1, affine=True, track_running_stats=True)\n",
      "      (relu): ReLU(inplace=True)\n",
      "    )\n",
      "    (18): Bottleneck(\n",
      "      (conv1): Conv2d(1024, 256, kernel_size=(1, 1), stride=(1, 1), bias=False)\n",
      "      (bn1): BatchNorm2d(256, eps=1e-05, momentum=0.1, affine=True, track_running_stats=True)\n",
      "      (conv2): Conv2d(256, 256, kernel_size=(3, 3), stride=(1, 1), padding=(1, 1), bias=False)\n",
      "      (bn2): BatchNorm2d(256, eps=1e-05, momentum=0.1, affine=True, track_running_stats=True)\n",
      "      (conv3): Conv2d(256, 1024, kernel_size=(1, 1), stride=(1, 1), bias=False)\n",
      "      (bn3): BatchNorm2d(1024, eps=1e-05, momentum=0.1, affine=True, track_running_stats=True)\n",
      "      (relu): ReLU(inplace=True)\n",
      "    )\n",
      "    (19): Bottleneck(\n",
      "      (conv1): Conv2d(1024, 256, kernel_size=(1, 1), stride=(1, 1), bias=False)\n",
      "      (bn1): BatchNorm2d(256, eps=1e-05, momentum=0.1, affine=True, track_running_stats=True)\n",
      "      (conv2): Conv2d(256, 256, kernel_size=(3, 3), stride=(1, 1), padding=(1, 1), bias=False)\n",
      "      (bn2): BatchNorm2d(256, eps=1e-05, momentum=0.1, affine=True, track_running_stats=True)\n",
      "      (conv3): Conv2d(256, 1024, kernel_size=(1, 1), stride=(1, 1), bias=False)\n",
      "      (bn3): BatchNorm2d(1024, eps=1e-05, momentum=0.1, affine=True, track_running_stats=True)\n",
      "      (relu): ReLU(inplace=True)\n",
      "    )\n",
      "    (20): Bottleneck(\n",
      "      (conv1): Conv2d(1024, 256, kernel_size=(1, 1), stride=(1, 1), bias=False)\n",
      "      (bn1): BatchNorm2d(256, eps=1e-05, momentum=0.1, affine=True, track_running_stats=True)\n",
      "      (conv2): Conv2d(256, 256, kernel_size=(3, 3), stride=(1, 1), padding=(1, 1), bias=False)\n",
      "      (bn2): BatchNorm2d(256, eps=1e-05, momentum=0.1, affine=True, track_running_stats=True)\n",
      "      (conv3): Conv2d(256, 1024, kernel_size=(1, 1), stride=(1, 1), bias=False)\n",
      "      (bn3): BatchNorm2d(1024, eps=1e-05, momentum=0.1, affine=True, track_running_stats=True)\n",
      "      (relu): ReLU(inplace=True)\n",
      "    )\n",
      "    (21): Bottleneck(\n",
      "      (conv1): Conv2d(1024, 256, kernel_size=(1, 1), stride=(1, 1), bias=False)\n",
      "      (bn1): BatchNorm2d(256, eps=1e-05, momentum=0.1, affine=True, track_running_stats=True)\n",
      "      (conv2): Conv2d(256, 256, kernel_size=(3, 3), stride=(1, 1), padding=(1, 1), bias=False)\n",
      "      (bn2): BatchNorm2d(256, eps=1e-05, momentum=0.1, affine=True, track_running_stats=True)\n",
      "      (conv3): Conv2d(256, 1024, kernel_size=(1, 1), stride=(1, 1), bias=False)\n",
      "      (bn3): BatchNorm2d(1024, eps=1e-05, momentum=0.1, affine=True, track_running_stats=True)\n",
      "      (relu): ReLU(inplace=True)\n",
      "    )\n",
      "    (22): Bottleneck(\n",
      "      (conv1): Conv2d(1024, 256, kernel_size=(1, 1), stride=(1, 1), bias=False)\n",
      "      (bn1): BatchNorm2d(256, eps=1e-05, momentum=0.1, affine=True, track_running_stats=True)\n",
      "      (conv2): Conv2d(256, 256, kernel_size=(3, 3), stride=(1, 1), padding=(1, 1), bias=False)\n",
      "      (bn2): BatchNorm2d(256, eps=1e-05, momentum=0.1, affine=True, track_running_stats=True)\n",
      "      (conv3): Conv2d(256, 1024, kernel_size=(1, 1), stride=(1, 1), bias=False)\n",
      "      (bn3): BatchNorm2d(1024, eps=1e-05, momentum=0.1, affine=True, track_running_stats=True)\n",
      "      (relu): ReLU(inplace=True)\n",
      "    )\n",
      "  )\n",
      "  (layer4): Sequential(\n",
      "    (0): Bottleneck(\n",
      "      (conv1): Conv2d(1024, 512, kernel_size=(1, 1), stride=(1, 1), bias=False)\n",
      "      (bn1): BatchNorm2d(512, eps=1e-05, momentum=0.1, affine=True, track_running_stats=True)\n",
      "      (conv2): Conv2d(512, 512, kernel_size=(3, 3), stride=(2, 2), padding=(1, 1), bias=False)\n",
      "      (bn2): BatchNorm2d(512, eps=1e-05, momentum=0.1, affine=True, track_running_stats=True)\n",
      "      (conv3): Conv2d(512, 2048, kernel_size=(1, 1), stride=(1, 1), bias=False)\n",
      "      (bn3): BatchNorm2d(2048, eps=1e-05, momentum=0.1, affine=True, track_running_stats=True)\n",
      "      (relu): ReLU(inplace=True)\n",
      "      (downsample): Sequential(\n",
      "        (0): Conv2d(1024, 2048, kernel_size=(1, 1), stride=(2, 2), bias=False)\n",
      "        (1): BatchNorm2d(2048, eps=1e-05, momentum=0.1, affine=True, track_running_stats=True)\n",
      "      )\n",
      "    )\n",
      "    (1): Bottleneck(\n",
      "      (conv1): Conv2d(2048, 512, kernel_size=(1, 1), stride=(1, 1), bias=False)\n",
      "      (bn1): BatchNorm2d(512, eps=1e-05, momentum=0.1, affine=True, track_running_stats=True)\n",
      "      (conv2): Conv2d(512, 512, kernel_size=(3, 3), stride=(1, 1), padding=(1, 1), bias=False)\n",
      "      (bn2): BatchNorm2d(512, eps=1e-05, momentum=0.1, affine=True, track_running_stats=True)\n",
      "      (conv3): Conv2d(512, 2048, kernel_size=(1, 1), stride=(1, 1), bias=False)\n",
      "      (bn3): BatchNorm2d(2048, eps=1e-05, momentum=0.1, affine=True, track_running_stats=True)\n",
      "      (relu): ReLU(inplace=True)\n",
      "    )\n",
      "    (2): Bottleneck(\n",
      "      (conv1): Conv2d(2048, 512, kernel_size=(1, 1), stride=(1, 1), bias=False)\n",
      "      (bn1): BatchNorm2d(512, eps=1e-05, momentum=0.1, affine=True, track_running_stats=True)\n",
      "      (conv2): Conv2d(512, 512, kernel_size=(3, 3), stride=(1, 1), padding=(1, 1), bias=False)\n",
      "      (bn2): BatchNorm2d(512, eps=1e-05, momentum=0.1, affine=True, track_running_stats=True)\n",
      "      (conv3): Conv2d(512, 2048, kernel_size=(1, 1), stride=(1, 1), bias=False)\n",
      "      (bn3): BatchNorm2d(2048, eps=1e-05, momentum=0.1, affine=True, track_running_stats=True)\n",
      "      (relu): ReLU(inplace=True)\n",
      "    )\n",
      "  )\n",
      "  (avgpool): AdaptiveAvgPool2d(output_size=(1, 1))\n",
      "  (fc): Linear(in_features=2048, out_features=1000, bias=True)\n",
      ")\n"
     ]
    }
   ],
   "source": [
    "resnet = models.resnet101(pretrained=True)   # 101 means that we choose the ResNet architecture with 101 layers\n",
    "print(resnet)        # Instance of a ResNet model"
   ]
  },
  {
   "source": [
    "**QUESTIONS**\n",
    "\n",
    "1. If we want to use 256x256 RGB images as input, what should be the dimension of the input layer of the neural network? \n",
    "2. If we have 1000 different labels (e.g cat, dog, mouse, goose, etc) what should be the dimension of the output layer of the neural network"
   ],
   "cell_type": "markdown",
   "metadata": {}
  },
  {
   "source": [
    "1. ANSWER: (width x height x RGB channels) = (256 x 256 x 3) dimensional\n",
    "2. ANSWER: Output layer contains the label, one-hot encoded (one for each cat, dog, mouse, goose, etc), so n different labels gives n dimensions, here 1000."
   ],
   "cell_type": "markdown",
   "metadata": {}
  },
  {
   "source": [
    "### 1.3 Neural network implementation in PyTorch\n",
    "\n",
    "In PyTorch all neural networks should be a class that is itself a subclass of the [PyTorch's torch.nn.Module](https://pytorch.org/docs/stable/generated/torch.nn.Module.html#module) class\n",
    "\n",
    "In the next 2 cells we'll show that [ResNet](https://pytorch.org/docs/stable/torchvision/models.html#id10) class is indeed a subclass of ``torch.nn.Module``"
   ],
   "cell_type": "markdown",
   "metadata": {}
  },
  {
   "cell_type": "code",
   "execution_count": 19,
   "metadata": {},
   "outputs": [
    {
     "output_type": "stream",
     "name": "stdout",
     "text": [
      "<class 'torchvision.models.resnet.ResNet'>\n"
     ]
    }
   ],
   "source": [
    "print(type(resnet))  # Find the python class of this instance (models.resnet.ResNet)"
   ]
  },
  {
   "source": [
    "Now that we know that our model is an instance of the class ``torchvision.models.resnet.ResNet`` we can check if this is a subclass of [torch.nn.Module](https://pytorch.org/docs/stable/generated/torch.nn.Module.html#module)"
   ],
   "cell_type": "markdown",
   "metadata": {}
  },
  {
   "cell_type": "code",
   "execution_count": 20,
   "metadata": {},
   "outputs": [
    {
     "output_type": "stream",
     "name": "stdout",
     "text": [
      "True\n"
     ]
    }
   ],
   "source": [
    "resnet_class = models.resnet.ResNet \n",
    "print(issubclass(resnet_class, torch.nn.Module))  # Show that the ResNet class is indeed a subclass of 'torch.nn.Module'"
   ]
  },
  {
   "source": [
    "### 1.4 Define a preprocess pipeline using PyTorch's transforms"
   ],
   "cell_type": "markdown",
   "metadata": {}
  },
  {
   "source": [
    "The [torchvision.transforms](https://pytorch.org/docs/stable/torchvision/transforms.html#torchvision-transforms) module can easily performs the most common image transformations such as [resize](https://pytorch.org/docs/stable/torchvision/transforms.html#torchvision.transforms.Resize), [normalize](https://pytorch.org/docs/stable/torchvision/transforms.html#torchvision.transforms.Normalize), etc. \n",
    "\n",
    "In addition, this module allow us to quickly define pipelines of basic preprocessing functions using the [transforms.Compose](https://pytorch.org/docs/stable/torchvision/transforms.html#torchvision.transforms.Compose) method.\n",
    "\n",
    "Thus in the following cell we define the pre-processing transformations that will be used on our input images."
   ],
   "cell_type": "markdown",
   "metadata": {}
  },
  {
   "cell_type": "code",
   "execution_count": 21,
   "metadata": {},
   "outputs": [],
   "source": [
    "preprocessor = transforms.Compose([\n",
    "    transforms.Resize(256),     # Resize to a 256x256 image\n",
    "    transforms.CenterCrop(224), # Crop the center (usually where the interesting object is)\n",
    "    transforms.ToTensor(),      # PyTorch's counterpart of Numpy's arrays\n",
    "    transforms.Normalize(       # Normalize input the same way ResNet training inputs were normalized \n",
    "    mean=[0.485, 0.456, 0.406], ### Mean given to match what was presented to ResNet during training\n",
    "    std=[0.229, 0.224, 0.225]   ### Same here\n",
    ")])"
   ]
  },
  {
   "source": [
    "## 2. Making predictions with a pre-trained network\n",
    "\n",
    "### 2.1 Load and preprocess an image \n",
    "\n",
    "In PyTorch, the data are stored in [tensors](https://pytorch.org/docs/stable/tensors.html#torch.Tensor). This is the counterpart of Numpy's arrays and most of the methods that are available with numpy arrays are also available with tensors. (e.g \n",
    "[size](https://pytorch.org/docs/stable/tensors.html#torch.Tensor.size), \n",
    "[amax](https://pytorch.org/docs/stable/tensors.html#torch.Tensor.amax), \n",
    "[argmax](https://pytorch.org/docs/stable/tensors.html#torch.Tensor.argmax), \n",
    "[sort](https://pytorch.org/docs/stable/tensors.html#torch.Tensor.sort), \n",
    "[abs](https://pytorch.org/docs/stable/tensors.html#torch.Tensor.abs), \n",
    "[cos](https://pytorch.org/docs/stable/tensors.html#torch.Tensor.cos), \n",
    "[sum](https://pytorch.org/docs/stable/tensors.html#torch.Tensor.sum) etc.)"
   ],
   "cell_type": "markdown",
   "metadata": {}
  },
  {
   "cell_type": "code",
   "execution_count": 22,
   "metadata": {},
   "outputs": [],
   "source": [
    "img = Image.open(\"imgs/Bobby.jpeg\")\n",
    "img_t = preprocessor(img)             # Preprocess our image using our preprocessor ('t' stands for 'tensor')\n",
    "batch_t = torch.unsqueeze(img_t, 0)   # Reshape so that it is a batch (of size 1) as required by the model "
   ]
  },
  {
   "source": [
    "### 2.2 Extract labels with which ResNet was trained"
   ],
   "cell_type": "markdown",
   "metadata": {}
  },
  {
   "cell_type": "code",
   "execution_count": 23,
   "metadata": {},
   "outputs": [],
   "source": [
    "# Read all the labels with which ResNet was trained and store them in the list 'labels'\n",
    "with open('list_labels.txt') as f:\n",
    "    labels = [line.strip() for line in f.readlines()]"
   ]
  },
  {
   "source": [
    "As stated in the PyTorch documentation: \n",
    "\n",
    "> \"Some models use modules which have different training and evaluation behavior, such as batch normalization. To switch between these modes, use [model.train()](https://pytorch.org/docs/stable/generated/torch.nn.Module.html#torch.nn.Module.train) or [model.eval()](https://pytorch.org/docs/stable/generated/torch.nn.Module.html#torch.nn.Module.eval) (from the [torch.nn.Module](https://pytorch.org/docs/stable/generated/torch.nn.Module.html#module)) as appropriate."
   ],
   "cell_type": "markdown",
   "metadata": {}
  },
  {
   "cell_type": "code",
   "execution_count": 24,
   "metadata": {},
   "outputs": [
    {
     "output_type": "stream",
     "name": "stdout",
     "text": [
      " \n"
     ]
    }
   ],
   "source": [
    "resnet.eval()  # Pytorch method to indicate that we are now using the model to make predictions and not to train it anymore \n",
    "print(\" \")"
   ]
  },
  {
   "source": [
    "Now we are ready to make some predictions on our images! \n",
    "Let's show the output of the resnet model given our image of Bobby the Golden Retriever\n",
    "\n",
    "**QUESTION** \n",
    "\n",
    "1. Print the dimension of the tensor ``out`` using the [Tensor.size()](https://pytorch.org/docs/stable/tensors.html#torch.Tensor.size) method\n",
    "2. Does it match your previous answer about the output dimension? "
   ],
   "cell_type": "markdown",
   "metadata": {}
  },
  {
   "cell_type": "code",
   "execution_count": 28,
   "metadata": {
    "tags": []
   },
   "outputs": [
    {
     "output_type": "stream",
     "name": "stdout",
     "text": [
      "\n Size:  torch.Size([1, 1000])\n"
     ]
    }
   ],
   "source": [
    "out = resnet(batch_t)\n",
    "#print(out)\n",
    "\n",
    "print(\"\\n Size: \", out.size())"
   ]
  },
  {
   "source": [
    "### 2.3 Interpreting the output\n",
    "\n",
    "You don't know what to do with that right? How do you know if this output tensor means that the image is a dog or a cat or something else? \n",
    "\n",
    "Well that's actually simple. The first idea would be to find the most activated output unit, that is to say, the index of max value and find the label with the corresponding index. To do so we use the [torch.max](https://pytorch.org/docs/stable/generated/torch.max.html?highlight=max#torch.max) function\n",
    "\n",
    "\n"
   ],
   "cell_type": "markdown",
   "metadata": {}
  },
  {
   "cell_type": "code",
   "execution_count": 29,
   "metadata": {},
   "outputs": [
    {
     "output_type": "stream",
     "name": "stdout",
     "text": [
      "Index:  tensor([207]) \nLabel:  golden retriever \nOutput value:  tensor([15.6744], grad_fn=<IndexBackward>)\n"
     ]
    }
   ],
   "source": [
    "_, index = torch.max(out, 1)\n",
    "print(\n",
    "    \"Index: \",index,  \n",
    "    \"\\nLabel: \", labels[index], \n",
    "    \"\\nOutput value: \", out[0, index]\n",
    "    ) "
   ]
  },
  {
   "source": [
    "But now the question is how to interpret this output value? How can we say if the model hesitates between this label and another one? \n",
    "\n",
    "We would like to convert this tensor value into something that could be interpreted as the confidence that the model has in its prediction. To do so, we use the [softmax](https://pytorch.org/docs/stable/nn.functional.html#torch.nn.functional.softmax) function which normalizes our outputs to \\[0, 1\\] and divide by the sum. \n",
    "\n",
    "For more information about the SoftMax function, watch the videos by Andrew Ng: \n",
    "- [Softmax Regression (C2W3L08)](https://www.youtube.com/watch?v=LLux1SW--oM)\n",
    "- [Training Softmax Classifier (C2W3L09)](https://www.youtube.com/watch?v=ueO_Ph0Pyqk)\n",
    "\n",
    "**QUESTION** \n",
    "\n",
    "1. Find the index corresponding to the max value of ``out`` **Hint:** Look at the previous cell "
   ],
   "cell_type": "markdown",
   "metadata": {}
  },
  {
   "cell_type": "code",
   "execution_count": 31,
   "metadata": {},
   "outputs": [
    {
     "output_type": "stream",
     "name": "stdout",
     "text": [
      "Label:  golden retriever \nConfidence:  96.29 %\n"
     ]
    }
   ],
   "source": [
    "\n",
    "_, index = torch.max(out, 1)\n",
    "confidences = torch.nn.functional.softmax(out, dim=1)[0]\n",
    "percentages = confidences * 100\n",
    "print(\n",
    "    \"Label: \",labels[index[0]], \n",
    "    \"\\nConfidence: \", round(percentages[index[0]].item(), 2), \"%\")\n",
    "\n"
   ]
  },
  {
   "source": [
    "### 2.4 Top-1 and Top-5 errors\n",
    "\n",
    "When evaluating a image classifier we often use the terms *Top-1 error* and *Top-5 error* \n",
    "\n",
    "f the classifier’s top guess is the correct answer (e.g., the highest score is for the “dog” class, and the test image is actually of a dog), then the correct answer is said to be in the Top-1.\n",
    "\n",
    "If the correct answer is at least among the classifier’s top 5 guesses, it is said to be in the Top-5.\n",
    "\n",
    "The top-1 score is the conventional accuracy, that is to say its checks if the top class (the one having the highest confidence) is the same as the target label. This is what we have done in the cell above\n",
    "\n",
    "On the other hand, the top-5 score checks if the target label is one of your top 5 predictions (the 5 ones with the highest confidences). To do so we use the [torch.sort](https://pytorch.org/docs/stable/generated/torch.sort.html#torch-sort) function\n",
    "\n",
    "**QUESTIONS**\n",
    "\n",
    "1. Complete the code below **Hint:** Look at how we preprocessed the first image Bobby \n",
    "2. Does the model seem confident about the first prediction?"
   ],
   "cell_type": "markdown",
   "metadata": {}
  },
  {
   "source": [
    "2. Answer: 96.29 % for the first prediction (golden retriever) and near zero for the rest, seems highly confident."
   ],
   "cell_type": "markdown",
   "metadata": {}
  },
  {
   "cell_type": "code",
   "execution_count": 34,
   "metadata": {},
   "outputs": [
    {
     "output_type": "stream",
     "name": "stdout",
     "text": [
      "0 :  \nLabel:  golden retriever \nConfidence:  96.29 %\n1 :  \nLabel:  cocker spaniel, English cocker spaniel, cocker \nConfidence:  0.28 %\n2 :  \nLabel:  tennis ball \nConfidence:  0.12 %\n3 :  \nLabel:  Pembroke, Pembroke Welsh corgi \nConfidence:  0.0 %\n4 :  \nLabel:  Irish setter, red setter \nConfidence:  0.03 %\n"
     ]
    }
   ],
   "source": [
    "num_preds = 5\n",
    "\n",
    "img = Image.open(\"imgs/golden_retriever_online.jpeg\")\n",
    "img_t = preprocessor(img) \n",
    "batch_t = torch.unsqueeze(img_t, 0)\n",
    "\n",
    "out = resnet(batch_t)\n",
    "\n",
    "percentages = confidences * 100\n",
    "_, indices = torch.sort(out, descending=True)\n",
    "\n",
    "results = [(labels[idx], round(percentages[idx].item(), 2)) for idx in indices[0][:num_preds]]\n",
    "for i_pred in range(num_preds):\n",
    "    print(\n",
    "        i_pred, \": \",\n",
    "        \"\\nLabel: \", results[i_pred][0], \n",
    "        \"\\nConfidence: \",  results[i_pred][1],\"%\"\n",
    "        )"
   ]
  },
  {
   "source": [
    "## 3. Playing with the ResNet model\n",
    "\n",
    "Put all the images that you want in the 'imgs/' (could be personal pictures or taken from the internet)\n",
    "\n",
    "**QUESTIONS**\n",
    "\n",
    "1. Complete the code below so that for each image it prints the 5 best guests according to the model\n",
    "2. When the image is a dog, what are usually the 1st, 2nd, 3rd guesses? \n",
    "3. Use one of your personal picture of an object whose label is in the list of labels.\n",
    "4. Try to find an image on the web whose label is in the list of labels but whose corresponding prediction is wrong. How can you try to make it difficult for the model to recognize the object? \n",
    "5. Try to find an image on the web whose label is NOT in the list of labels with which the model was trained. Look at the output, is it consistent even though it is necesseraly wrong? "
   ],
   "cell_type": "markdown",
   "metadata": {}
  },
  {
   "cell_type": "code",
   "execution_count": null,
   "metadata": {},
   "outputs": [],
   "source": [
    "2. Answer: For images of dogs the list of guesses seems to be consistently different types of dogs"
   ]
  },
  {
   "cell_type": "code",
   "execution_count": 36,
   "metadata": {},
   "outputs": [
    {
     "output_type": "stream",
     "name": "stdout",
     "text": [
      "\n",
      " ======  Akita_personal.jpg  ====== \n",
      "0 :  \n",
      "Label:  Eskimo dog, husky \n",
      "Confidence:  20.56 %\n",
      "1 :  \n",
      "Label:  chow, chow chow \n",
      "Confidence:  20.46 %\n",
      "2 :  \n",
      "Label:  Samoyed, Samoyede \n",
      "Confidence:  20.06 %\n",
      "3 :  \n",
      "Label:  malamute, malemute, Alaskan malamute \n",
      "Confidence:  14.73 %\n",
      "4 :  \n",
      "Label:  golden retriever \n",
      "Confidence:  8.75 %\n",
      "\n",
      " ======  Bobby.jpeg  ====== \n",
      "0 :  \n",
      "Label:  golden retriever \n",
      "Confidence:  96.29 %\n",
      "1 :  \n",
      "Label:  Labrador retriever \n",
      "Confidence:  2.81 %\n",
      "2 :  \n",
      "Label:  cocker spaniel, English cocker spaniel, cocker \n",
      "Confidence:  0.28 %\n",
      "3 :  \n",
      "Label:  redbone \n",
      "Confidence:  0.21 %\n",
      "4 :  \n",
      "Label:  tennis ball \n",
      "Confidence:  0.12 %\n",
      "\n",
      " ======  dog_meme.png  ====== \n",
      "0 :  \n",
      "Label:  dingo, warrigal, warragal, Canis dingo \n",
      "Confidence:  28.91 %\n",
      "1 :  \n",
      "Label:  chow, chow chow \n",
      "Confidence:  8.2 %\n",
      "2 :  \n",
      "Label:  Siberian husky \n",
      "Confidence:  7.86 %\n",
      "3 :  \n",
      "Label:  Eskimo dog, husky \n",
      "Confidence:  6.67 %\n",
      "4 :  \n",
      "Label:  Pembroke, Pembroke Welsh corgi \n",
      "Confidence:  5.65 %\n",
      "\n",
      " ======  golden_retriever_online.jpeg  ====== \n",
      "0 :  \n",
      "Label:  golden retriever \n",
      "Confidence:  97.04 %\n",
      "1 :  \n",
      "Label:  cocker spaniel, English cocker spaniel, cocker \n",
      "Confidence:  0.48 %\n",
      "2 :  \n",
      "Label:  tennis ball \n",
      "Confidence:  0.37 %\n",
      "3 :  \n",
      "Label:  Pembroke, Pembroke Welsh corgi \n",
      "Confidence:  0.29 %\n",
      "4 :  \n",
      "Label:  Irish setter, red setter \n",
      "Confidence:  0.2 %\n",
      "\n",
      " ======  husky_meme.png  ====== \n",
      "0 :  \n",
      "Label:  Siberian husky \n",
      "Confidence:  47.34 %\n",
      "1 :  \n",
      "Label:  Eskimo dog, husky \n",
      "Confidence:  42.7 %\n",
      "2 :  \n",
      "Label:  malamute, malemute, Alaskan malamute \n",
      "Confidence:  5.57 %\n",
      "3 :  \n",
      "Label:  Norwegian elkhound, elkhound \n",
      "Confidence:  3.0 %\n",
      "4 :  \n",
      "Label:  dogsled, dog sled, dog sleigh \n",
      "Confidence:  0.52 %\n",
      "\n",
      " ======  seal_meme01.png  ====== \n",
      "0 :  \n",
      "Label:  sea lion \n",
      "Confidence:  57.34 %\n",
      "1 :  \n",
      "Label:  otter \n",
      "Confidence:  22.36 %\n",
      "2 :  \n",
      "Label:  snow leopard, ounce, Panthera uncia \n",
      "Confidence:  5.65 %\n",
      "3 :  \n",
      "Label:  tabby, tabby cat \n",
      "Confidence:  4.99 %\n",
      "4 :  \n",
      "Label:  Egyptian cat \n",
      "Confidence:  3.32 %\n",
      "\n",
      " ======  seal_meme02.png  ====== \n",
      "0 :  \n",
      "Label:  sea lion \n",
      "Confidence:  76.4 %\n",
      "1 :  \n",
      "Label:  zebra \n",
      "Confidence:  4.83 %\n",
      "2 :  \n",
      "Label:  Arabian camel, dromedary, Camelus dromedarius \n",
      "Confidence:  3.2 %\n",
      "3 :  \n",
      "Label:  otter \n",
      "Confidence:  1.18 %\n",
      "4 :  \n",
      "Label:  meerkat, mierkat \n",
      "Confidence:  0.73 %\n"
     ]
    }
   ],
   "source": [
    "# ------------------------------\n",
    "# Load inputs\n",
    "# ------------------------------\n",
    "\n",
    "# Load all the images in the 'imgs/' folder\n",
    "list_img_t = []                  # Where input tensors will be stored\n",
    "path_imgs = 'imgs/'   \n",
    "list_files = listdir('imgs/')    # Find all filenames in the 'imgs/' folder\n",
    "for f in list_files:\n",
    "    img = Image.open(path_imgs + f)\n",
    "    img = img.convert('RGB')  # Because some of the images are in the RGBA format while ResNet requires a RGB format\n",
    "    img_t = preprocessor(img)\n",
    "    list_img_t.append(torch.unsqueeze(img_t, 0) )\n",
    "\n",
    "# ------------------------------\n",
    "# Make predictions\n",
    "# ------------------------------\n",
    "num_preds = 5\n",
    "for i, batch_t in enumerate(list_img_t):\n",
    "    print(\"\\n ====== \", list_files[i], \" ====== \")\n",
    "\n",
    "    out = resnet(batch_t)\n",
    "    confidences = torch.nn.functional.softmax(out, dim=1)[0]\n",
    "    percentages = confidences * 100\n",
    "\n",
    "    _, indices = torch.sort(out, descending=True)\n",
    "    results = [(labels[idx], round(percentages[idx].item(), 2)) for idx in indices[0][:num_preds]]\n",
    "    for i_pred in range(num_preds):\n",
    "        print(\n",
    "            i_pred, \": \",\n",
    "            \"\\nLabel: \", results[i_pred][0], \n",
    "            \"\\nConfidence: \",  results[i_pred][1],\"%\"\n",
    "            )\n"
   ]
  },
  {
   "source": [
    "## 4. Good to know\n",
    "- In PyTorch, data are stored in [tensors](https://pytorch.org/docs/stable/tensors.html#torch.Tensor). This is the counterpart of Numpy's array and most of the methods that are available with numpy arrays are also available with tensors. (e.g \n",
    "[size](https://pytorch.org/docs/stable/tensors.html#torch.Tensor.size), \n",
    "[amax](https://pytorch.org/docs/stable/tensors.html#torch.Tensor.amax), \n",
    "[argmax](https://pytorch.org/docs/stable/tensors.html#torch.Tensor.argmax), \n",
    "[sort](https://pytorch.org/docs/stable/tensors.html#torch.Tensor.sort), \n",
    "[abs](https://pytorch.org/docs/stable/tensors.html#torch.Tensor.abs), \n",
    "[cos](https://pytorch.org/docs/stable/tensors.html#torch.Tensor.cos), \n",
    "[sum](https://pytorch.org/docs/stable/tensors.html#torch.Tensor.sum) etc.)\n",
    "- In PyTorch all neural networks should be a class that is itself a subclass of the PyTorch's [torch.nn.Module](https://pytorch.org/docs/stable/generated/torch.nn.Module.html#module) class\n",
    "- There are many well-known deep neural network architectures available in the [torchvision.models](https://pytorch.org/docs/stable/torchvision/models.html?highlight=models) sub-package. \n",
    "  - For each of these architecture a pre-trained model is available. \n",
    "  - Some of them such as the ResNet architecture even have multiple pre-trained model instances of different depths. Thus from the [ResNet](https://pytorch.org/docs/stable/torchvision/models.html#id10) class, we have [resnet18](https://pytorch.org/docs/stable/torchvision/models.html#torchvision.models.resnet18), [resnet50](https://pytorch.org/docs/stable/torchvision/models.html#torchvision.models.resnet50), [resnet101](https://pytorch.org/docs/stable/torchvision/models.html#torchvision.models.resnet101), etc.\n",
    "- During the preprocessing, we can use the [torchvision.transforms](https://pytorch.org/docs/stable/torchvision/transforms.html#torchvision-transforms) module to perform the most common image transformations\n",
    "- Some models use modules which have different training and evaluation behavior, such as batch normalization. To switch between these modes, we use [model.train()](https://pytorch.org/docs/stable/generated/torch.nn.Module.html#torch.nn.Module.train) or [model.eval()](https://pytorch.org/docs/stable/generated/torch.nn.Module.html#torch.nn.Module.eval)\n",
    "- Top-1 and Top-5 scores are commenly used in image classification\n",
    "- When there are more than 2 possible classes we often use the [SoftMax]((https://pytorch.org/docs/stable/nn.functional.html#torch.nn.functional.softmax)) in the output layer to convert the output tensor vales into confidence values."
   ],
   "cell_type": "markdown",
   "metadata": {}
  }
 ]
}